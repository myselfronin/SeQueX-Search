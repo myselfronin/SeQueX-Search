{
 "cells": [
  {
   "cell_type": "code",
   "execution_count": 7,
   "metadata": {},
   "outputs": [],
   "source": [
    "#! pip install -U spacy -q\n"
   ]
  },
  {
   "cell_type": "code",
   "execution_count": 11,
   "metadata": {},
   "outputs": [
    {
     "name": "stdout",
     "output_type": "stream",
     "text": [
      "zsh:1: command not found: python\n"
     ]
    }
   ],
   "source": [
    "! python -m spacy info # If no spacy then run the above command by uncommenting"
   ]
  },
  {
   "cell_type": "code",
   "execution_count": 12,
   "metadata": {},
   "outputs": [],
   "source": [
    "import spacy\n",
    "from spacy.tokens import DocBin\n",
    "import json\n",
    "\n",
    "\n",
    "PATH_TO_TRAIN_JSONL='./annotated_train_dataset.jsonl'\n",
    "PATH_TO_TRAIN_SPACY='./annotated_train_dataset.spacy'\n",
    "PATH_TO_TEST_JSONL='./annotated_test_dataset.jsonl'\n",
    "PATH_TO_TEST_SPACY='./annotated_test_dataset.spacy'\n"
   ]
  },
  {
   "cell_type": "code",
   "execution_count": null,
   "metadata": {},
   "outputs": [
    {
     "ename": "",
     "evalue": "",
     "output_type": "error",
     "traceback": [
      "\u001b[1;31mRunning cells with '/usr/local/bin/python3' requires the ipykernel package.\n",
      "\u001b[1;31mRun the following command to install 'ipykernel' into the Python environment. \n",
      "\u001b[1;31mCommand: '/usr/local/bin/python3 -m pip install ipykernel -U --user --force-reinstall'"
     ]
    }
   ],
   "source": [
    "def convert_jsonl_to_spacy(jsonl_file_path, spacy_file_path):\n",
    "    nlp = spacy.load('en')\n",
    "    doc_bin = DocBin()\n",
    "\n",
    "    with open(jsonl_file_path, 'r') as file:\n",
    "        for line in file:\n",
    "            data = json.loads(line)\n",
    "            text = data['text']\n",
    "            annotations = data['label']\n",
    "            ents = []\n",
    "            for start, end, label in annotations:\n",
    "                span = nlp(text).char_span(start, end, label=label)\n",
    "                if span is not None:\n",
    "                    ents.append(span)\n",
    "            \n",
    "            doc = nlp.make_doc(text)\n",
    "            doc.ents = ents\n",
    "            doc_bin.add(doc)\n",
    "    \n",
    "    doc_bin.to_disk(spacy_file_path)"
   ]
  },
  {
   "cell_type": "code",
   "execution_count": null,
   "metadata": {},
   "outputs": [],
   "source": [
    "# Now use the function to make .spacy train and test data\n",
    "convert_jsonl_to_spacy(PATH_TO_TRAIN_JSONL, PATH_TO_TRAIN_SPACY)\n",
    "convert_jsonl_to_spacy(PATH_TO_TEST_JSONL, PATH_TO_TEST_SPACY)"
   ]
  }
 ],
 "metadata": {
  "kernelspec": {
   "display_name": "Python 3",
   "language": "python",
   "name": "python3"
  },
  "language_info": {
   "codemirror_mode": {
    "name": "ipython",
    "version": 3
   },
   "file_extension": ".py",
   "mimetype": "text/x-python",
   "name": "python",
   "nbconvert_exporter": "python",
   "pygments_lexer": "ipython3",
   "version": "3.12.0"
  }
 },
 "nbformat": 4,
 "nbformat_minor": 2
}
